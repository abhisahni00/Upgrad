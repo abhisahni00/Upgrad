{
 "cells": [
  {
   "cell_type": "code",
   "execution_count": null,
   "id": "cc7f18bc",
   "metadata": {},
   "outputs": [],
   "source": [
    "import random\n",
    "\n",
    "def generate_random_number(start, end):\n",
    "    return random.randint(start, end)\n",
    "\n",
    "def get_guess():\n",
    "    while True:\n",
    "        try:\n",
    "            guess = int(input(\"Guess the number: \"))\n",
    "            return guess\n",
    "        except ValueError:\n",
    "            print(\"Invalid input. Please enter a valid number.\")\n",
    "\n",
    "def check_guess(guess, answer):\n",
    "    return guess == answer\n",
    "\n",
    "def give_hint(guess, answer):\n",
    "    if guess < answer:\n",
    "        print(\"The number is higher than your guess.\")\n",
    "    else:\n",
    "        print(\"The number is lower than your guess.\")\n",
    "\n",
    "def play_game(start, end):\n",
    "    answer = generate_random_number(start, end)\n",
    "    score = 100\n",
    "    while True:\n",
    "        guess = get_guess()\n",
    "        if check_guess(guess, answer):\n",
    "            print(\"Congratulations! You guessed the number.\")\n",
    "            print(\"Your final score is:\", score)\n",
    "            break\n",
    "        else:\n",
    "            give_hint(guess, answer)\n",
    "            score -= 10\n",
    "\n",
    "if __name__ == \"__main__\":\n",
    "    play_game(1, 100)\n"
   ]
  }
 ],
 "metadata": {
  "kernelspec": {
   "display_name": "Python 3 (ipykernel)",
   "language": "python",
   "name": "python3"
  },
  "language_info": {
   "codemirror_mode": {
    "name": "ipython",
    "version": 3
   },
   "file_extension": ".py",
   "mimetype": "text/x-python",
   "name": "python",
   "nbconvert_exporter": "python",
   "pygments_lexer": "ipython3",
   "version": "3.9.12"
  }
 },
 "nbformat": 4,
 "nbformat_minor": 5
}
