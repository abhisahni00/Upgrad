{
 "cells": [
  {
   "cell_type": "code",
   "execution_count": 1,
   "id": "0eb87804",
   "metadata": {},
   "outputs": [],
   "source": [
    "import tkinter as tk  # Import the tkinter library and alias it as 'tk'.\n",
    "\n",
    "def calculate():  # Define a function called 'calculate' to perform calculations.\n",
    "    num1 = int(entry_1.get())  # Get and convert the input value from entry_1 to an integer.\n",
    "    num2 = int(entry_2.get())  # Get and convert the input value from entry_2 to an integer.\n",
    "    operation = var.get()  # Get the selected operation from the Radiobuttons.\n",
    "    if operation == 1:  # If the operation is addition:\n",
    "        result = num1 + num2  # Perform addition.\n",
    "    elif operation == 2:  # If the operation is subtraction:\n",
    "        result = num1 - num2  # Perform subtraction.\n",
    "    elif operation == 3:  # If the operation is multiplication:\n",
    "        result = num1 * num2  # Perform multiplication.\n",
    "    else:  # For all other cases (division):\n",
    "        result = num1 / num2  # Perform division.\n",
    "    result_label.config(text=\"Result: \" + str(result))  # Update the result label with the calculated result.\n",
    "\n",
    "root = tk.Tk()  # Create the main tkinter window.\n",
    "root.geometry(\"200x200\")  # Set the window size to 200x200 pixels.\n",
    "root.title(\"Calculator\")  # Set the window title to \"Calculator\".\n",
    "\n",
    "var = tk.IntVar()  # Create an IntegerVar to hold the selected operation.\n",
    "\n",
    "entry_1 = tk.Entry(root)  # Create an input entry widget for the first number.\n",
    "entry_2 = tk.Entry(root)  # Create an input entry widget for the second number.\n",
    "\n",
    "add_button = tk.Radiobutton(root, text=\"Add\", variable=var, value=1)  # Create a Radiobutton for addition.\n",
    "subtract_button = tk.Radiobutton(root, text=\"Subtract\", variable=var, value=2)  # Create a Radiobutton for subtraction.\n",
    "multiply_button = tk.Radiobutton(root, text=\"Multiply\", variable=var, value=3)  # Create a Radiobutton for multiplication.\n",
    "divide_button = tk.Radiobutton(root, text=\"Divide\", variable=var, value=4)  # Create a Radiobutton for division.\n",
    "\n",
    "calculate_button = tk.Button(root, text=\"Calculate\", command=calculate)  # Create a Calculate button.\n",
    "\n",
    "result_label = tk.Label(root)  # Create a label to display the result.\n",
    "\n",
    "entry_1.pack()  # Place the first entry widget in the window.\n",
    "entry_2.pack()  # Place the second entry widget in the window.\n",
    "\n",
    "add_button.pack()  # Place the addition Radiobutton in the window.\n",
    "subtract_button.pack()  # Place the subtraction Radiobutton in the window.\n",
    "multiply_button.pack()  # Place the multiplication Radiobutton in the window.\n",
    "divide_button.pack()  # Place the division Radiobutton in the window.\n",
    "\n",
    "calculate_button.pack()  # Place the Calculate button in the window.\n",
    "\n",
    "result_label.pack()  # Place the result label in the window.\n",
    "\n",
    "root.mainloop()  # Start the tkinter main event loop to display the GUI and handle user interactions.\n"
   ]
  },
  {
   "cell_type": "code",
   "execution_count": null,
   "id": "7fe91fea",
   "metadata": {},
   "outputs": [],
   "source": []
  }
 ],
 "metadata": {
  "kernelspec": {
   "display_name": "Python 3",
   "language": "python",
   "name": "python3"
  },
  "language_info": {
   "codemirror_mode": {
    "name": "ipython",
    "version": 3
   },
   "file_extension": ".py",
   "mimetype": "text/x-python",
   "name": "python",
   "nbconvert_exporter": "python",
   "pygments_lexer": "ipython3",
   "version": "3.8.8"
  }
 },
 "nbformat": 4,
 "nbformat_minor": 5
}
